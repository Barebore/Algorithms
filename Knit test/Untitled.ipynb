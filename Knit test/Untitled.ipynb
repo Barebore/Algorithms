{
 "cells": [
  {
   "cell_type": "code",
   "execution_count": 1,
   "id": "e7fb41f2-6201-49bf-a5d1-8cba3c0aaf1e",
   "metadata": {},
   "outputs": [],
   "source": [
    "import pyknit\n",
    "\n",
    "# Set gauge\n",
    "# original gauge was 21 stitches per 4 inches and didn't specify row gauge because it used measurements instead of row numbers\n",
    "# re-measuring the hat gets me...\n",
    "\n",
    "gauge = pyknit.GaugeSwatch(row_count=52, row_measure=4, stitch_count=21, stitch_measure=4, units=\"in\")"
   ]
  },
  {
   "cell_type": "code",
   "execution_count": 2,
   "id": "7f6ce7b1-0169-4e1f-93fe-49d903bf8311",
   "metadata": {},
   "outputs": [
    {
     "name": "stdout",
     "output_type": "stream",
     "text": [
      "Cast on estimate for my desired size: 116\n"
     ]
    }
   ],
   "source": [
    "# My head is around 22 inches and I don't like my hats super tight so let's start with that\n",
    "\n",
    "cast_on_estimate = gauge.measurement_to_stitches(22)\n",
    "print(f\"Cast on estimate for my desired size: {cast_on_estimate}\")"
   ]
  },
  {
   "cell_type": "code",
   "execution_count": 3,
   "id": "578e724c-1e86-4ce6-a9e7-7e5e74511066",
   "metadata": {},
   "outputs": [
    {
     "name": "stdout",
     "output_type": "stream",
     "text": [
      "Number of chart repeats 14\n"
     ]
    }
   ],
   "source": [
    "# the chart in this hat is 8 stitches wide, so what's the closest I can get with an 8 stitch repeat?\n",
    "\n",
    "number_of_repeats = round(cast_on_estimate / 8)\n",
    "print(f\"Number of chart repeats {number_of_repeats}\")"
   ]
  },
  {
   "cell_type": "code",
   "execution_count": 4,
   "id": "595bc32f-e48a-4308-8011-5a13af512360",
   "metadata": {},
   "outputs": [
    {
     "name": "stdout",
     "output_type": "stream",
     "text": [
      "Cast on 112 stitches\n"
     ]
    }
   ],
   "source": [
    "# So I need to cast on this many stitches ...\n",
    "\n",
    "cast_on = number_of_repeats*8\n",
    "\n",
    "instructions = []\n",
    "instructions.append(f\"Cast on {cast_on} stitches\")\n",
    "print(instructions[0])"
   ]
  },
  {
   "cell_type": "code",
   "execution_count": 5,
   "id": "31fcceef-f849-4977-8639-aa4580bcfc3c",
   "metadata": {},
   "outputs": [
    {
     "name": "stdout",
     "output_type": "stream",
     "text": [
      "Final hat circumference: 21.333333333333332in\n"
     ]
    }
   ],
   "source": [
    "# Let's just double-check that we like that size.  You can tweak it by adding or removing a repeat above\n",
    "# Typically, you want a hat to be a little bit tight (have negative ease) so that it will stretch and stay on\n",
    "\n",
    "hat_circumference = gauge.stitches_to_measurement(112)\n",
    "print(f\"Final hat circumference: {hat_circumference}{gauge.units}\")"
   ]
  },
  {
   "cell_type": "code",
   "execution_count": 6,
   "id": "87ec512b-3533-4903-8279-0719939905a0",
   "metadata": {},
   "outputs": [],
   "source": [
    "brim_instructions = \"{k2 through the back loop, p2} repeat around\"\n",
    "# we want around 1 inch of brim\n",
    "brim_rows = gauge.measurement_to_rows(1)\n",
    "instructions.append(\"Brim:\")\n",
    "instructions.append(f\"Rows 1-{brim_rows}: {brim_instructions} ({int(cast_on/4)} repeats total)\")"
   ]
  },
  {
   "cell_type": "code",
   "execution_count": 7,
   "id": "963fcd92-0132-4b91-9da9-fed836a420fc",
   "metadata": {},
   "outputs": [
    {
     "data": {
      "application/vnd.jupyter.widget-view+json": {
       "model_id": "b2f45aaab3b9490aaee2aabbf938f3f4",
       "version_major": 2,
       "version_minor": 0
      },
      "text/plain": [
       "VBox(children=(ColorPicker(value='#616161', description='Main color'), ColorPicker(value='#dcd618', descriptio…"
      ]
     },
     "execution_count": 7,
     "metadata": {},
     "output_type": "execute_result"
    }
   ],
   "source": [
    "from ipywidgets import ColorPicker, VBox\n",
    "\n",
    "main_color = ColorPicker(value=\"#616161\", description=\"Main color\")\n",
    "a_color = ColorPicker(value=\"#dcd618\", description=\"Color A\")\n",
    "b_color = ColorPicker(value=\"#66ccff\", description=\"Color B\")\n",
    "c_color = ColorPicker(value=\"#db7575\", description=\"Color C\")\n",
    "VBox((main_color, a_color, b_color, c_color))"
   ]
  },
  {
   "cell_type": "code",
   "execution_count": 8,
   "id": "2a711e12-07f0-4ef2-89a3-8e116bba440b",
   "metadata": {},
   "outputs": [],
   "source": [
    "# create a stitch legend for when we get to charts\n",
    "stitch_legend = {\n",
    "    \"k\": {\n",
    "        \"instruction\": \"knit with main colour\",\n",
    "        \"symbol\": main_color.value,\n",
    "        \"width\": 1,\n",
    "    },\n",
    "    \"p\": {\n",
    "        \"instruction\": \"purl with main colour\",\n",
    "        \"symbol\": \"-\",\n",
    "        \"width\": 1,\n",
    "    },\n",
    "    \"k2tog\": {\n",
    "        \"instruction\": \"knit two together (decrease)\",\n",
    "        \"symbol\": \"/\",\n",
    "        \"width\": 1,\n",
    "    },\n",
    "    # Colours\n",
    "    \"a\": {\n",
    "        \"instruction\": \"knit with colour A\",\n",
    "        \"symbol\":a_color.value,\n",
    "        \"width\": 1,\n",
    "    },\n",
    "    \"b\": {\n",
    "        \"instruction\": \"knit with colour B\",\n",
    "        \"symbol\": b_color.value,\n",
    "        \"width\": 1,\n",
    "    },\n",
    "    \"c\": {\n",
    "        \"instruction\": \"knit with colour C\",\n",
    "        \"symbol\": c_color.value,\n",
    "        \"width\": 1,\n",
    "    },\n",
    "\n",
    "}"
   ]
  },
  {
   "cell_type": "code",
   "execution_count": 9,
   "id": "25064c9c-0d2c-4947-871e-70097d5968c5",
   "metadata": {},
   "outputs": [],
   "source": [
    "row = brim_rows+1\n",
    "colourwork_instructions = [\n",
    "    f\"Rows {row}-{row+1}: k{cast_on}\",\n",
    "    \"\\nTriangle 1:\",\n",
    "    f\"Row {row+2}: [a7, k1] repeat {number_of_repeats} times\",\n",
    "    f\"Row {row+3}: [k1, a5, k2] repeat {number_of_repeats} times\",\n",
    "    f\"Row {row+4}: [k2, a3, k3] repeat {number_of_repeats} times\",\n",
    "    f\"Row {row+5}: [k3, a1, k4] repeat {number_of_repeats} times\",\n",
    "    \"\\nTriangle 2: \",\n",
    "    f\"Row {row+6}: [b3, k1, b4] repeat {number_of_repeats} times\",\n",
    "    f\"Row {row+7}: [b2, k3, b3] repeat {number_of_repeats} times\",\n",
    "    f\"Row {row+8}: [b1, k5, b2] repeat {number_of_repeats} times\",\n",
    "    f\"Row {row+8}: [k7, b1] repeat {number_of_repeats} times\",\n",
    "    \"\\nTriangle 3: \",\n",
    "    f\"Row {row+2}: [c7, k1] repeat {number_of_repeats} times\",\n",
    "    f\"Row {row+3}: [k1, c5, k2] repeat {number_of_repeats} times\",\n",
    "    f\"Row {row+4}: [k2, c3, k3] repeat {number_of_repeats} times\",\n",
    "    f\"Row {row+5}: [k3, c1, k4] repeat {number_of_repeats} times\",\n",
    "\n",
    "]"
   ]
  },
  {
   "cell_type": "code",
   "execution_count": 13,
   "id": "00cad44f-bd3f-4a76-a6ec-f9940c69a700",
   "metadata": {},
   "outputs": [
    {
     "ename": "AttributeError",
     "evalue": "'dict' object has no attribute 'width'",
     "output_type": "error",
     "traceback": [
      "\u001B[0;31m---------------------------------------------------------------------------\u001B[0m",
      "\u001B[0;31mAttributeError\u001B[0m                            Traceback (most recent call last)",
      "Cell \u001B[0;32mIn[13], line 5\u001B[0m\n\u001B[1;32m      3\u001B[0m pattern \u001B[38;5;241m=\u001B[39m \u001B[38;5;124m\"\u001B[39m\u001B[38;5;130;01m\\n\u001B[39;00m\u001B[38;5;124m\"\u001B[39m\u001B[38;5;241m.\u001B[39mjoin([\u001B[38;5;124m\"\u001B[39m\u001B[38;5;124ma7, k1\u001B[39m\u001B[38;5;124m\"\u001B[39m,\u001B[38;5;124m\"\u001B[39m\u001B[38;5;124mk1, a5, k2\u001B[39m\u001B[38;5;124m\"\u001B[39m,\u001B[38;5;124m\"\u001B[39m\u001B[38;5;124mk2, a3, k3\u001B[39m\u001B[38;5;124m\"\u001B[39m,\u001B[38;5;124m\"\u001B[39m\u001B[38;5;124mk3, a1, k4\u001B[39m\u001B[38;5;124m\"\u001B[39m,\u001B[38;5;124m\"\u001B[39m\u001B[38;5;124mb3, k1, b4\u001B[39m\u001B[38;5;124m\"\u001B[39m,\u001B[38;5;124m\"\u001B[39m\u001B[38;5;124mb2, k3, b3\u001B[39m\u001B[38;5;124m\"\u001B[39m,\u001B[38;5;124m\"\u001B[39m\u001B[38;5;124mb1, k5, b2\u001B[39m\u001B[38;5;124m\"\u001B[39m,\u001B[38;5;124m\"\u001B[39m\u001B[38;5;124mk7, b1\u001B[39m\u001B[38;5;124m\"\u001B[39m,\u001B[38;5;124m\"\u001B[39m\u001B[38;5;124mc7, k1\u001B[39m\u001B[38;5;124m\"\u001B[39m,\u001B[38;5;124m\"\u001B[39m\u001B[38;5;124mk1, c5, k2\u001B[39m\u001B[38;5;124m\"\u001B[39m,\u001B[38;5;124m\"\u001B[39m\u001B[38;5;124mk2, c3, k3\u001B[39m\u001B[38;5;124m\"\u001B[39m,\u001B[38;5;124m\"\u001B[39m\u001B[38;5;124mk3, c1, k4\u001B[39m\u001B[38;5;124m\"\u001B[39m])\n\u001B[1;32m      4\u001B[0m parsed \u001B[38;5;241m=\u001B[39m pyknit\u001B[38;5;241m.\u001B[39mparse_chart(pattern, legend\u001B[38;5;241m=\u001B[39mstitch_legend)\n\u001B[0;32m----> 5\u001B[0m \u001B[43mpyknit\u001B[49m\u001B[38;5;241;43m.\u001B[39;49m\u001B[43mplot_chart\u001B[49m\u001B[43m(\u001B[49m\u001B[43mparsed\u001B[49m\u001B[43m,\u001B[49m\u001B[43m \u001B[49m\u001B[43mlr_direction\u001B[49m\u001B[38;5;241;43m=\u001B[39;49m\u001B[38;5;124;43m\"\u001B[39;49m\u001B[38;5;124;43mrl\u001B[39;49m\u001B[38;5;124;43m\"\u001B[39;49m\u001B[43m,\u001B[49m\u001B[43m \u001B[49m\u001B[43mtb_direction\u001B[49m\u001B[38;5;241;43m=\u001B[39;49m\u001B[38;5;124;43m\"\u001B[39;49m\u001B[38;5;124;43mbt\u001B[39;49m\u001B[38;5;124;43m\"\u001B[39;49m\u001B[43m)\u001B[49m\n\u001B[1;32m      6\u001B[0m \u001B[38;5;66;03m#print(pattern)\u001B[39;00m\n",
      "File \u001B[0;32m~/Desktop/Learning_Programming/Knit test/pyknit/pyknit/Chart.py:280\u001B[0m, in \u001B[0;36mplot_chart\u001B[0;34m(stitch_array, lr_direction, tb_direction)\u001B[0m\n\u001B[1;32m    275\u001B[0m \u001B[38;5;28;01melif\u001B[39;00m num_rows \u001B[38;5;241m==\u001B[39m \u001B[38;5;241m1\u001B[39m:\n\u001B[1;32m    276\u001B[0m     stitch_array \u001B[38;5;241m=\u001B[39m [\n\u001B[1;32m    277\u001B[0m         stitch_array\n\u001B[1;32m    278\u001B[0m     ]  \u001B[38;5;66;03m# put a single row into a containing list to make the 2D loop work\u001B[39;00m\n\u001B[0;32m--> 280\u001B[0m longest_row_len \u001B[38;5;241m=\u001B[39m \u001B[38;5;28mmax\u001B[39m([\u001B[38;5;28msum\u001B[39m(st\u001B[38;5;241m.\u001B[39mwidth \u001B[38;5;28;01mfor\u001B[39;00m st \u001B[38;5;129;01min\u001B[39;00m row) \u001B[38;5;28;01mfor\u001B[39;00m row \u001B[38;5;129;01min\u001B[39;00m stitch_array])\n\u001B[1;32m    282\u001B[0m \u001B[38;5;28mprint\u001B[39m(\u001B[38;5;124mf\u001B[39m\u001B[38;5;124m\"\u001B[39m\u001B[38;5;132;01m{\u001B[39;00mnum_rows\u001B[38;5;132;01m}\u001B[39;00m\u001B[38;5;124m rows, \u001B[39m\u001B[38;5;132;01m{\u001B[39;00mlongest_row_len\u001B[38;5;132;01m}\u001B[39;00m\u001B[38;5;124m sts wide at max\u001B[39m\u001B[38;5;124m\"\u001B[39m)\n\u001B[1;32m    283\u001B[0m pattern_to_plot \u001B[38;5;241m=\u001B[39m instruction_to_plot_order(\n\u001B[1;32m    284\u001B[0m     stitch_array, tb_direction, lr_direction\n\u001B[1;32m    285\u001B[0m )\n",
      "File \u001B[0;32m~/Desktop/Learning_Programming/Knit test/pyknit/pyknit/Chart.py:280\u001B[0m, in \u001B[0;36m<listcomp>\u001B[0;34m(.0)\u001B[0m\n\u001B[1;32m    275\u001B[0m \u001B[38;5;28;01melif\u001B[39;00m num_rows \u001B[38;5;241m==\u001B[39m \u001B[38;5;241m1\u001B[39m:\n\u001B[1;32m    276\u001B[0m     stitch_array \u001B[38;5;241m=\u001B[39m [\n\u001B[1;32m    277\u001B[0m         stitch_array\n\u001B[1;32m    278\u001B[0m     ]  \u001B[38;5;66;03m# put a single row into a containing list to make the 2D loop work\u001B[39;00m\n\u001B[0;32m--> 280\u001B[0m longest_row_len \u001B[38;5;241m=\u001B[39m \u001B[38;5;28mmax\u001B[39m([\u001B[38;5;28;43msum\u001B[39;49m\u001B[43m(\u001B[49m\u001B[43mst\u001B[49m\u001B[38;5;241;43m.\u001B[39;49m\u001B[43mwidth\u001B[49m\u001B[43m \u001B[49m\u001B[38;5;28;43;01mfor\u001B[39;49;00m\u001B[43m \u001B[49m\u001B[43mst\u001B[49m\u001B[43m \u001B[49m\u001B[38;5;129;43;01min\u001B[39;49;00m\u001B[43m \u001B[49m\u001B[43mrow\u001B[49m\u001B[43m)\u001B[49m \u001B[38;5;28;01mfor\u001B[39;00m row \u001B[38;5;129;01min\u001B[39;00m stitch_array])\n\u001B[1;32m    282\u001B[0m \u001B[38;5;28mprint\u001B[39m(\u001B[38;5;124mf\u001B[39m\u001B[38;5;124m\"\u001B[39m\u001B[38;5;132;01m{\u001B[39;00mnum_rows\u001B[38;5;132;01m}\u001B[39;00m\u001B[38;5;124m rows, \u001B[39m\u001B[38;5;132;01m{\u001B[39;00mlongest_row_len\u001B[38;5;132;01m}\u001B[39;00m\u001B[38;5;124m sts wide at max\u001B[39m\u001B[38;5;124m\"\u001B[39m)\n\u001B[1;32m    283\u001B[0m pattern_to_plot \u001B[38;5;241m=\u001B[39m instruction_to_plot_order(\n\u001B[1;32m    284\u001B[0m     stitch_array, tb_direction, lr_direction\n\u001B[1;32m    285\u001B[0m )\n",
      "File \u001B[0;32m~/Desktop/Learning_Programming/Knit test/pyknit/pyknit/Chart.py:280\u001B[0m, in \u001B[0;36m<genexpr>\u001B[0;34m(.0)\u001B[0m\n\u001B[1;32m    275\u001B[0m \u001B[38;5;28;01melif\u001B[39;00m num_rows \u001B[38;5;241m==\u001B[39m \u001B[38;5;241m1\u001B[39m:\n\u001B[1;32m    276\u001B[0m     stitch_array \u001B[38;5;241m=\u001B[39m [\n\u001B[1;32m    277\u001B[0m         stitch_array\n\u001B[1;32m    278\u001B[0m     ]  \u001B[38;5;66;03m# put a single row into a containing list to make the 2D loop work\u001B[39;00m\n\u001B[0;32m--> 280\u001B[0m longest_row_len \u001B[38;5;241m=\u001B[39m \u001B[38;5;28mmax\u001B[39m([\u001B[38;5;28msum\u001B[39m(\u001B[43mst\u001B[49m\u001B[38;5;241;43m.\u001B[39;49m\u001B[43mwidth\u001B[49m \u001B[38;5;28;01mfor\u001B[39;00m st \u001B[38;5;129;01min\u001B[39;00m row) \u001B[38;5;28;01mfor\u001B[39;00m row \u001B[38;5;129;01min\u001B[39;00m stitch_array])\n\u001B[1;32m    282\u001B[0m \u001B[38;5;28mprint\u001B[39m(\u001B[38;5;124mf\u001B[39m\u001B[38;5;124m\"\u001B[39m\u001B[38;5;132;01m{\u001B[39;00mnum_rows\u001B[38;5;132;01m}\u001B[39;00m\u001B[38;5;124m rows, \u001B[39m\u001B[38;5;132;01m{\u001B[39;00mlongest_row_len\u001B[38;5;132;01m}\u001B[39;00m\u001B[38;5;124m sts wide at max\u001B[39m\u001B[38;5;124m\"\u001B[39m)\n\u001B[1;32m    283\u001B[0m pattern_to_plot \u001B[38;5;241m=\u001B[39m instruction_to_plot_order(\n\u001B[1;32m    284\u001B[0m     stitch_array, tb_direction, lr_direction\n\u001B[1;32m    285\u001B[0m )\n",
      "\u001B[0;31mAttributeError\u001B[0m: 'dict' object has no attribute 'width'"
     ]
    }
   ],
   "source": [
    "# Let's see what that looks like\n",
    "# Not got the parsing right yet, so a bit of copy paste\n",
    "pattern = \"\\n\".join([\"a7, k1\",\"k1, a5, k2\",\"k2, a3, k3\",\"k3, a1, k4\",\"b3, k1, b4\",\"b2, k3, b3\",\"b1, k5, b2\",\"k7, b1\",\"c7, k1\",\"k1, c5, k2\",\"k2, c3, k3\",\"k3, c1, k4\"])\n",
    "parsed = pyknit.parse_chart(pattern, legend=stitch_legend)\n",
    "pyknit.plot_chart(parsed, lr_direction=\"rl\", tb_direction=\"bt\")\n",
    "#print(pattern)"
   ]
  },
  {
   "cell_type": "code",
   "execution_count": 14,
   "id": "68aaa9b8-64d8-4a64-aba5-7cbecae4d5aa",
   "metadata": {},
   "outputs": [],
   "source": [
    "import math\n",
    "instructions.extend(colourwork_instructions)\n",
    "instructions.append(\"Continue knitting in main colour until hat reaches desired height\")\n",
    "radius = hat_circumference / (math.pi*2)\n",
    "instructions.append(f\"This is likely around {round(radius+.5)}{gauge.units} based on your hat circumference, but try it on!\")\n",
    "instructions.append(\"For a close-fitting beanie it should be tall enough to reach the top of your head.\")"
   ]
  },
  {
   "cell_type": "code",
   "execution_count": 15,
   "id": "78f756a6-4f11-4b82-a79c-4368a0e8662f",
   "metadata": {},
   "outputs": [],
   "source": [
    "# make a crown\n",
    "hat = pyknit.Hat()\n",
    "crown_instructions = hat.crown_decreases(int(number_of_repeats/2), cast_on)\n",
    "instructions.append(\"\\nCrown:\")\n",
    "instructions.extend(crown_instructions)"
   ]
  },
  {
   "cell_type": "code",
   "execution_count": 16,
   "id": "60c594db-68c3-4100-928d-70838df90cd5",
   "metadata": {},
   "outputs": [
    {
     "name": "stdout",
     "output_type": "stream",
     "text": [
      "Triangle Hat\n",
      "------------\n",
      "\n",
      "Cast on 112 stitches\n",
      "Brim:\n",
      "Rows 1-13: {k2 through the back loop, p2} repeat around (28 repeats total)\n",
      "Rows 14-15: k112\n",
      "\n",
      "Triangle 1:\n",
      "Row 16: [a7, k1] repeat 14 times\n",
      "Row 17: [k1, a5, k2] repeat 14 times\n",
      "Row 18: [k2, a3, k3] repeat 14 times\n",
      "Row 19: [k3, a1, k4] repeat 14 times\n",
      "\n",
      "Triangle 2: \n",
      "Row 20: [b3, k1, b4] repeat 14 times\n",
      "Row 21: [b2, k3, b3] repeat 14 times\n",
      "Row 22: [b1, k5, b2] repeat 14 times\n",
      "Row 22: [k7, b1] repeat 14 times\n",
      "\n",
      "Triangle 3: \n",
      "Row 16: [c7, k1] repeat 14 times\n",
      "Row 17: [k1, c5, k2] repeat 14 times\n",
      "Row 18: [k2, c3, k3] repeat 14 times\n",
      "Row 19: [k3, c1, k4] repeat 14 times\n",
      "Continue knitting in main colour until hat reaches desired height\n",
      "This is likely around 4in based on your hat circumference, but try it on!\n",
      "For a close-fitting beanie it should be tall enough to reach the top of your head.\n",
      "Rows 14-15: k112\n",
      "\n",
      "Triangle 1:\n",
      "Row 16: [a7, k1] repeat 14 times\n",
      "Row 17: [k1, a5, k2] repeat 14 times\n",
      "Row 18: [k2, a3, k3] repeat 14 times\n",
      "Row 19: [k3, a1, k4] repeat 14 times\n",
      "\n",
      "Triangle 2: \n",
      "Row 20: [b3, k1, b4] repeat 14 times\n",
      "Row 21: [b2, k3, b3] repeat 14 times\n",
      "Row 22: [b1, k5, b2] repeat 14 times\n",
      "Row 22: [k7, b1] repeat 14 times\n",
      "\n",
      "Triangle 3: \n",
      "Row 16: [c7, k1] repeat 14 times\n",
      "Row 17: [k1, c5, k2] repeat 14 times\n",
      "Row 18: [k2, c3, k3] repeat 14 times\n",
      "Row 19: [k3, c1, k4] repeat 14 times\n",
      "Continue knitting in main colour until hat reaches desired height\n",
      "This is likely around 4in based on your hat circumference, but try it on!\n",
      "For a close-fitting beanie it should be tall enough to reach the top of your head.\n",
      "\n",
      "Crown:\n",
      "[k14, k2tog] repeat 7 times (105 stitches)\n",
      "Knit 1 round\n",
      "[k13, k2tog] repeat 7 times (98 stitches)\n",
      "Knit 1 round\n",
      "[k12, k2tog] repeat 7 times (91 stitches)\n",
      "Knit 1 round\n",
      "[k11, k2tog] repeat 7 times (84 stitches)\n",
      "Knit 1 round\n",
      "[k10, k2tog] repeat 7 times (77 stitches)\n",
      "Knit 1 round\n",
      "[k9, k2tog] repeat 7 times (70 stitches)\n",
      "Knit 1 round\n",
      "[k8, k2tog] repeat 7 times (63 stitches)\n",
      "Knit 1 round\n",
      "[k7, k2tog] repeat 7 times (56 stitches)\n",
      "Knit 1 round\n",
      "[k6, k2tog] repeat 7 times (49 stitches)\n",
      "Knit 1 round\n",
      "[k5, k2tog] repeat 7 times (42 stitches)\n",
      "Knit 1 round\n",
      "[k4, k2tog] repeat 7 times (35 stitches)\n",
      "Knit 1 round\n",
      "[k3, k2tog] repeat 7 times (28 stitches)\n",
      "Knit 1 round\n",
      "[k2, k2tog] repeat 7 times (21 stitches)\n",
      "Knit 1 round\n",
      "[k1, k2tog] repeat 7 times (14 stitches)\n",
      "Knit 1 round\n",
      "k2tog 7 times (7 stitches)\n",
      "Knit 1 round\n",
      "Cut yarn leaving 4 inch tail, thread through remaining stitches and pull closed\n"
     ]
    }
   ],
   "source": [
    "# print complete pattern\n",
    "\n",
    "print(\"Triangle Hat\")\n",
    "print(\"------------\")\n",
    "print()\n",
    "print(instructions)\n",
    "for line in instructions:\n",
    "    print(line)"
   ]
  },
  {
   "cell_type": "code",
   "execution_count": null,
   "id": "93f303f3-ebce-43bb-9c95-922678026349",
   "metadata": {},
   "outputs": [],
   "source": []
  }
 ],
 "metadata": {
  "kernelspec": {
   "display_name": "Python 3 (ipykernel)",
   "language": "python",
   "name": "python3"
  },
  "language_info": {
   "codemirror_mode": {
    "name": "ipython",
    "version": 3
   },
   "file_extension": ".py",
   "mimetype": "text/x-python",
   "name": "python",
   "nbconvert_exporter": "python",
   "pygments_lexer": "ipython3",
   "version": "3.9.6"
  }
 },
 "nbformat": 4,
 "nbformat_minor": 5
}
