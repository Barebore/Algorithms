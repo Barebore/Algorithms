{
 "cells": [
  {
   "cell_type": "code",
   "execution_count": 1,
   "id": "ab5b4768-4407-4b44-a885-4fef50bfc9bb",
   "metadata": {},
   "outputs": [],
   "source": [
    "import pyknit"
   ]
  },
  {
   "cell_type": "code",
   "execution_count": 2,
   "id": "cfa3316a-6a33-4fda-b381-7c7571cc9323",
   "metadata": {},
   "outputs": [],
   "source": [
    "sweaterSwatch = pyknit.GaugeSwatch(row_count=18, row_measure=3.25, stitch_count=24, stitch_measure=4, units=\"in\")"
   ]
  },
  {
   "cell_type": "code",
   "execution_count": 3,
   "id": "50353c28-4f56-430b-9b7b-6df002dceb0c",
   "metadata": {},
   "outputs": [
    {
     "name": "stdout",
     "output_type": "stream",
     "text": [
      "61\n"
     ]
    }
   ],
   "source": [
    "print(sweaterSwatch.measurement_to_rows(11))"
   ]
  },
  {
   "cell_type": "code",
   "execution_count": 4,
   "id": "e9ff7d44-0d84-433d-9ef8-56c419d0a1e0",
   "metadata": {},
   "outputs": [
    {
     "name": "stdout",
     "output_type": "stream",
     "text": [
      "[decrease row, do 7 rows in pattern] * 5 times, [decrease row, do 6 rows in pattern] * 3 times\n"
     ]
    }
   ],
   "source": [
    "import pyknit\n",
    "print(pyknit.sleeve_decreases(61, starting_count=59, ending_count=43, decrease_per_row=2))"
   ]
  },
  {
   "cell_type": "code",
   "execution_count": null,
   "id": "a4f38e12-1f83-4f73-893f-17f33815d3ef",
   "metadata": {},
   "outputs": [],
   "source": []
  }
 ],
 "metadata": {
  "kernelspec": {
   "display_name": "Python 3 (ipykernel)",
   "language": "python",
   "name": "python3"
  },
  "language_info": {
   "codemirror_mode": {
    "name": "ipython",
    "version": 3
   },
   "file_extension": ".py",
   "mimetype": "text/x-python",
   "name": "python",
   "nbconvert_exporter": "python",
   "pygments_lexer": "ipython3",
   "version": "3.9.6"
  }
 },
 "nbformat": 4,
 "nbformat_minor": 5
}
