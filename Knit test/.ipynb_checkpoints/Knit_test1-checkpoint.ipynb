{
 "cells": [
  {
   "cell_type": "code",
   "execution_count": 1,
   "id": "ab5b4768-4407-4b44-a885-4fef50bfc9bb",
   "metadata": {},
   "outputs": [],
   "source": [
    "import pyknit"
   ]
  },
  {
   "cell_type": "code",
   "execution_count": 2,
   "id": "cfa3316a-6a33-4fda-b381-7c7571cc9323",
   "metadata": {},
   "outputs": [],
   "source": [
    "sweaterSwatch = pyknit.GaugeSwatch(row_count=18, row_measure=3.25, stitch_count=24, stitch_measure=4, units=\"in\")"
   ]
  },
  {
   "cell_type": "code",
   "execution_count": null,
   "id": "50353c28-4f56-430b-9b7b-6df002dceb0c",
   "metadata": {},
   "outputs": [],
   "source": [
    "print(sweaterSwatch.measurement_to_rows(11))"
   ]
  }
 ],
 "metadata": {
  "kernelspec": {
   "display_name": "Python 3 (ipykernel)",
   "language": "python",
   "name": "python3"
  },
  "language_info": {
   "codemirror_mode": {
    "name": "ipython",
    "version": 3
   },
   "file_extension": ".py",
   "mimetype": "text/x-python",
   "name": "python",
   "nbconvert_exporter": "python",
   "pygments_lexer": "ipython3",
   "version": "3.9.6"
  }
 },
 "nbformat": 4,
 "nbformat_minor": 5
}
